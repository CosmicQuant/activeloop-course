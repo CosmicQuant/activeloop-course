{
  "nbformat": 4,
  "nbformat_minor": 0,
  "metadata": {
    "colab": {
      "provenance": [],
      "gpuType": "T4",
      "mount_file_id": "1EF2VWMC_ni75dEkWoTjnXcA6o0w6H_Nt",
      "authorship_tag": "ABX9TyOGdWlFcUoofLIgjr0kEsAp",
      "include_colab_link": true
    },
    "kernelspec": {
      "name": "python3",
      "display_name": "Python 3"
    },
    "language_info": {
      "name": "python"
    },
    "accelerator": "GPU"
  },
  "cells": [
    {
      "cell_type": "markdown",
      "metadata": {
        "id": "view-in-github",
        "colab_type": "text"
      },
      "source": [
        "<a href=\"https://colab.research.google.com/github/CosmicQuant/activeloop-course/blob/main/Building_Applications_Powered_by_LLMs_with_LangChain.ipynb\" target=\"_parent\"><img src=\"https://colab.research.google.com/assets/colab-badge.svg\" alt=\"Open In Colab\"/></a>"
      ]
    },
    {
      "cell_type": "code",
      "execution_count": null,
      "metadata": {
        "id": "4OJIQAwoKFYE"
      },
      "outputs": [],
      "source": [
        "! pip install langchain==0.0.208 deeplake openai==0.27.8 tiktoken python-dotenv pypdf"
      ]
    },
    {
      "cell_type": "code",
      "source": [
        "from dotenv import load_dotenv\n",
        "\n",
        "load_dotenv('/content/drive/MyDrive/keys.env')"
      ],
      "metadata": {
        "id": "ZtCjl2j9LI2D"
      },
      "execution_count": null,
      "outputs": []
    },
    {
      "cell_type": "code",
      "source": [
        "from langchain.chat_models import ChatOpenAI\n",
        "from langchain.prompts.chat import (\n",
        "    ChatPromptTemplate,\n",
        "    SystemMessagePromptTemplate,\n",
        "    HumanMessagePromptTemplate,\n",
        ")\n",
        "\n",
        "# Before executing the following code, make sure to have\n",
        "# your OpenAI key saved in the “OPENAI_API_KEY” environment variable.\n",
        "chat = ChatOpenAI(model_name=\"gpt-3.5-turbo\", temperature=0)\n",
        "\n",
        "template = \"You are an assistant that helps users find information about movies.\"\n",
        "system_message_prompt = SystemMessagePromptTemplate.from_template(template)\n",
        "human_template = \"Find information about the movie {movie_title}.\"\n",
        "human_message_prompt = HumanMessagePromptTemplate.from_template(human_template)\n",
        "\n",
        "chat_prompt = ChatPromptTemplate.from_messages([system_message_prompt, human_message_prompt])\n",
        "\n",
        "response = chat(chat_prompt.format_prompt(movie_title=\"Inception\").to_messages())\n",
        "\n",
        "print(response.content)"
      ],
      "metadata": {
        "id": "0Z5pJOXXKMNh"
      },
      "execution_count": null,
      "outputs": []
    },
    {
      "cell_type": "code",
      "source": [
        "# Import necessary modules\n",
        "from langchain import OpenAI, PromptTemplate\n",
        "from langchain.chains.summarize import load_summarize_chain\n",
        "from langchain.document_loaders import PyPDFLoader\n",
        "\n",
        "# Initialize language model\n",
        "llm = OpenAI(model_name=\"text-davinci-003\", temperature=0)\n",
        "\n",
        "# Load the summarization chain\n",
        "summarize_chain = load_summarize_chain(llm)\n",
        "\n",
        "# Load the document using PyPDFLoader\n",
        "document_loader = PyPDFLoader(file_path=\"/content/drive/MyDrive/Python for Finance Mastering Data-Driven Finance Book (Yves Hilpisch) (z-lib.org).pdf\")\n",
        "document = document_loader.load()\n",
        "\n",
        "# Summarize the document\n",
        "summary = summarize_chain(document)\n",
        "print(summary['output_text'])"
      ],
      "metadata": {
        "id": "vH6RJRC4L4MA"
      },
      "execution_count": null,
      "outputs": []
    },
    {
      "cell_type": "code",
      "source": [
        "# Import necessary modules\n",
        "from langchain import OpenAI, PromptTemplate\n",
        "from langchain.chains.summarize import load_summarize_chain\n",
        "from langchain.document_loaders import PyPDFLoader\n",
        "\n",
        "# Initialize language model\n",
        "llm = OpenAI(model_name=\"text-davinci-003\", temperature=0)\n",
        "\n",
        "# Load the summarization chain\n",
        "summarize_chain = load_summarize_chain(llm)\n",
        "\n",
        "# Load the document using PyPDFLoader\n",
        "document_loader = PyPDFLoader(file_path=\"/content/drive/MyDrive/MOHAMED_HASSAN ISMAIL_Resume_14-10-2022-14-04-26.pdf\")\n",
        "document = document_loader.load()\n",
        "\n",
        "# Summarize the document\n",
        "summary = summarize_chain(document)\n",
        "print(summary['output_text'])"
      ],
      "metadata": {
        "id": "vvC_BdaFMpYG"
      },
      "execution_count": null,
      "outputs": []
    },
    {
      "cell_type": "code",
      "source": [
        "from langchain.prompts import PromptTemplate\n",
        "from langchain.chains import LLMChain\n",
        "from langchain.llms import OpenAI\n",
        "\n",
        "prompt = PromptTemplate(template=\"Question: {question}\\nAnswer:\", input_variables=[\"question\"])\n",
        "\n",
        "llm = OpenAI(model_name=\"text-davinci-003\", temperature=0)\n",
        "chain = LLMChain(llm=llm, prompt=prompt)"
      ],
      "metadata": {
        "id": "yGI5WxwxOrbK"
      },
      "execution_count": null,
      "outputs": []
    },
    {
      "cell_type": "code",
      "source": [
        "chain.run(\"what is the meaning of life?\")"
      ],
      "metadata": {
        "id": "IzsQxoIsO7Si"
      },
      "execution_count": null,
      "outputs": []
    }
  ]
}